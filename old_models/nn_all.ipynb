{
 "cells": [
  {
   "cell_type": "code",
   "execution_count": 1,
   "metadata": {},
   "outputs": [],
   "source": [
    "import pandas as pd\n",
    "import librosa\n",
    "import os\n",
    "import numpy as np \n",
    "from tensorflow.keras.utils import to_categorical\n",
    "from sklearn.model_selection import train_test_split\n",
    "\n",
    "from sklearn.preprocessing import LabelEncoder"
   ]
  },
  {
   "cell_type": "code",
   "execution_count": 2,
   "metadata": {},
   "outputs": [],
   "source": [
    "from keras import backend as keras_backend\n",
    "from keras.models import Sequential, load_model\n",
    "from keras.layers import Dense, Dropout, Flatten, LeakyReLU, SpatialDropout2D, Activation, Conv2D, MaxPooling2D, BatchNormalization, GlobalAveragePooling2D\n",
    "from tensorflow.keras.optimizers import Adam\n",
    "from tensorflow.keras.utils import plot_model\n",
    "from keras.callbacks import ModelCheckpoint \n",
    "from keras.regularizers import l2\n",
    "import tensorflow as tf"
   ]
  },
  {
   "cell_type": "markdown",
   "metadata": {},
   "source": [
    "## Arquivo de metadados"
   ]
  },
  {
   "cell_type": "code",
   "execution_count": 3,
   "metadata": {},
   "outputs": [],
   "source": [
    "#audio_path = 'spectogram/'\n",
    "#spectograms = os.listdir(audio_path)\n",
    "\n",
    "#metadata with most_freq chords indicator\n",
    "df = pd.read_csv('metadata.csv', sep = ',')\n",
    "df_chords = df\n"
   ]
  },
  {
   "cell_type": "markdown",
   "metadata": {},
   "source": [
    "## PCP"
   ]
  },
  {
   "cell_type": "code",
   "execution_count": 4,
   "metadata": {},
   "outputs": [],
   "source": [
    "X = np.load(\"X_PCP_SOLO.npy\")\n",
    "y = np.load(\"y_PCP_SOLO.npy\")"
   ]
  },
  {
   "cell_type": "code",
   "execution_count": 5,
   "metadata": {},
   "outputs": [],
   "source": [
    "from sklearn.model_selection import train_test_split\n",
    "\n",
    "X_train, X_test, y_train, y_test = train_test_split(X, y, test_size=0.33, random_state=42)"
   ]
  },
  {
   "cell_type": "code",
   "execution_count": 8,
   "metadata": {},
   "outputs": [
    {
     "data": {
      "text/plain": [
       "(2894, 12, 1216)"
      ]
     },
     "execution_count": 8,
     "metadata": {},
     "output_type": "execute_result"
    }
   ],
   "source": [
    "X_train.shape"
   ]
  },
  {
   "cell_type": "code",
   "execution_count": 6,
   "metadata": {},
   "outputs": [],
   "source": [
    "le = LabelEncoder()\n",
    "y_test_encoded = to_categorical(le.fit_transform(y_test))\n",
    "y_train_encoded = to_categorical(le.fit_transform(y_train))\n",
    "\n",
    "\n",
    "mapping = dict(zip(le.classes_, range(len(le.classes_))))"
   ]
  },
  {
   "cell_type": "code",
   "execution_count": 7,
   "metadata": {},
   "outputs": [],
   "source": [
    "import pickle \n",
    "\n",
    "with open('chords_mapping.pkl', 'wb') as f:\n",
    "    pickle.dump(mapping, f)"
   ]
  },
  {
   "cell_type": "code",
   "execution_count": 10,
   "metadata": {},
   "outputs": [
    {
     "data": {
      "text/plain": [
       "(1426, 12, 1216)"
      ]
     },
     "execution_count": 10,
     "metadata": {},
     "output_type": "execute_result"
    }
   ],
   "source": [
    "X_test.shape"
   ]
  },
  {
   "cell_type": "markdown",
   "metadata": {},
   "source": [
    "## Custom Model"
   ]
  },
  {
   "cell_type": "code",
   "execution_count": 20,
   "metadata": {},
   "outputs": [
    {
     "name": "stderr",
     "output_type": "stream",
     "text": [
      "2023/11/08 21:19:43 WARNING mlflow.utils.autologging_utils: You are using an unsupported version of tensorflow. If you encounter errors during autologging, try upgrading / downgrading tensorflow to a supported version, or try upgrading MLflow.\n"
     ]
    }
   ],
   "source": [
    "import mlflow\n",
    "\n",
    "mlflow.tensorflow.autolog(every_n_iter = 2)"
   ]
  },
  {
   "cell_type": "code",
   "execution_count": 10,
   "metadata": {},
   "outputs": [
    {
     "data": {
      "text/plain": [
       "(755, 1216, 12)"
      ]
     },
     "execution_count": 10,
     "metadata": {},
     "output_type": "execute_result"
    }
   ],
   "source": [
    "X_train.reshape(755,1216,12).shape"
   ]
  },
  {
   "cell_type": "code",
   "execution_count": 7,
   "metadata": {},
   "outputs": [],
   "source": [
    "# How data should be structured\n",
    "num_rows = round(1216/4)\n",
    "num_columns = 12*4 \n",
    "num_channels = 1\n",
    "\n",
    "# Reshape to fit the network input (channel last)\n",
    "X_train = X_train.reshape(X_train.shape[0], num_rows, num_columns, num_channels)\n",
    "X_test = X_test.reshape(X_test.shape[0], num_rows, num_columns, num_channels)\n",
    "\n",
    "# Total number of labels to predict (equal to the network output nodes)\n",
    "num_labels = y_train_encoded.shape[1]"
   ]
  },
  {
   "cell_type": "code",
   "execution_count": 8,
   "metadata": {},
   "outputs": [],
   "source": [
    "def create_model():\n",
    "\n",
    "    # Create a secquential object\n",
    "    model = Sequential()\n",
    "\n",
    "\n",
    "    # Conv 1\n",
    "    model.add(Conv2D(filters=32, \n",
    "                     kernel_size=(3, 3), \n",
    "                     input_shape=(num_rows, num_columns, num_channels)))\n",
    "    model.add(LeakyReLU(alpha=0.1))\n",
    "    model.add(BatchNormalization())\n",
    "\n",
    "    model.add(Conv2D(filters=32, \n",
    "                     kernel_size=(3, 3)))\n",
    "    model.add(LeakyReLU(alpha=0.1))\n",
    "    model.add(BatchNormalization())\n",
    "\n",
    "\n",
    "    # Max Pooling #1\n",
    "    model.add(MaxPooling2D(pool_size=(2, 2)))\n",
    "\n",
    "    model.add(Conv2D(filters=64, \n",
    "                     kernel_size=(3, 3)))\n",
    "    model.add(LeakyReLU(alpha=0.1))\n",
    "    model.add(BatchNormalization())\n",
    "\n",
    "    model.add(Conv2D(filters=64, \n",
    "                     kernel_size=(3,3)))\n",
    "    model.add(LeakyReLU(alpha=0.1))\n",
    "    model.add(BatchNormalization())\n",
    "    \n",
    "   \n",
    "    # Reduces each h×w feature map to a single number by taking the average of all h,w values.\n",
    "    model.add(GlobalAveragePooling2D())\n",
    "\n",
    "\n",
    "    # Softmax output\n",
    "    model.add(Dense(num_labels, activation='softmax'))\n",
    "    \n",
    "    return model\n",
    "\n",
    "\n",
    "model = create_model()"
   ]
  },
  {
   "cell_type": "code",
   "execution_count": 9,
   "metadata": {},
   "outputs": [
    {
     "name": "stdout",
     "output_type": "stream",
     "text": [
      "Model: \"sequential\"\n",
      "_________________________________________________________________\n",
      " Layer (type)                Output Shape              Param #   \n",
      "=================================================================\n",
      " conv2d (Conv2D)             (None, 302, 46, 32)       320       \n",
      "                                                                 \n",
      " leaky_re_lu (LeakyReLU)     (None, 302, 46, 32)       0         \n",
      "                                                                 \n",
      " batch_normalization (Batch  (None, 302, 46, 32)       128       \n",
      " Normalization)                                                  \n",
      "                                                                 \n",
      " conv2d_1 (Conv2D)           (None, 300, 44, 32)       9248      \n",
      "                                                                 \n",
      " leaky_re_lu_1 (LeakyReLU)   (None, 300, 44, 32)       0         \n",
      "                                                                 \n",
      " batch_normalization_1 (Bat  (None, 300, 44, 32)       128       \n",
      " chNormalization)                                                \n",
      "                                                                 \n",
      " max_pooling2d (MaxPooling2  (None, 150, 22, 32)       0         \n",
      " D)                                                              \n",
      "                                                                 \n",
      " conv2d_2 (Conv2D)           (None, 148, 20, 64)       18496     \n",
      "                                                                 \n",
      " leaky_re_lu_2 (LeakyReLU)   (None, 148, 20, 64)       0         \n",
      "                                                                 \n",
      " batch_normalization_2 (Bat  (None, 148, 20, 64)       256       \n",
      " chNormalization)                                                \n",
      "                                                                 \n",
      " conv2d_3 (Conv2D)           (None, 146, 18, 64)       36928     \n",
      "                                                                 \n",
      " leaky_re_lu_3 (LeakyReLU)   (None, 146, 18, 64)       0         \n",
      "                                                                 \n",
      " batch_normalization_3 (Bat  (None, 146, 18, 64)       256       \n",
      " chNormalization)                                                \n",
      "                                                                 \n",
      " global_average_pooling2d (  (None, 64)                0         \n",
      " GlobalAveragePooling2D)                                         \n",
      "                                                                 \n",
      " dense (Dense)               (None, 42)                2730      \n",
      "                                                                 \n",
      "=================================================================\n",
      "Total params: 68490 (267.54 KB)\n",
      "Trainable params: 68106 (266.04 KB)\n",
      "Non-trainable params: 384 (1.50 KB)\n",
      "_________________________________________________________________\n"
     ]
    }
   ],
   "source": [
    "model.compile(\n",
    "    loss='categorical_crossentropy',\n",
    "    metrics=[tf.keras.metrics.CategoricalAccuracy()],  \n",
    "    optimizer='adam')\n",
    "\n",
    "# Display model architecture summary \n",
    "model.summary()"
   ]
  },
  {
   "cell_type": "code",
   "execution_count": 11,
   "metadata": {},
   "outputs": [
    {
     "name": "stdout",
     "output_type": "stream",
     "text": [
      "Epoch 1/50\n",
      "29/29 [==============================] - 56s 2s/step - loss: 2.9668 - categorical_accuracy: 0.1424 - val_loss: 3.2443 - val_categorical_accuracy: 0.0940\n",
      "Epoch 2/50\n",
      "29/29 [==============================] - 56s 2s/step - loss: 2.9244 - categorical_accuracy: 0.1596 - val_loss: 3.0594 - val_categorical_accuracy: 0.1192\n",
      "Epoch 3/50\n",
      "29/29 [==============================] - 57s 2s/step - loss: 2.8883 - categorical_accuracy: 0.1596 - val_loss: 3.5743 - val_categorical_accuracy: 0.0842\n",
      "Epoch 4/50\n",
      "29/29 [==============================] - 58s 2s/step - loss: 2.8771 - categorical_accuracy: 0.1638 - val_loss: 3.8791 - val_categorical_accuracy: 0.0870\n",
      "Epoch 5/50\n",
      "29/29 [==============================] - 59s 2s/step - loss: 2.8626 - categorical_accuracy: 0.1700 - val_loss: 3.9840 - val_categorical_accuracy: 0.0715\n",
      "Epoch 6/50\n",
      "29/29 [==============================] - 61s 2s/step - loss: 2.8448 - categorical_accuracy: 0.1721 - val_loss: 4.3443 - val_categorical_accuracy: 0.0827\n",
      "Epoch 7/50\n",
      "29/29 [==============================] - 59s 2s/step - loss: 2.8317 - categorical_accuracy: 0.1721 - val_loss: 4.4536 - val_categorical_accuracy: 0.0743\n",
      "Epoch 8/50\n",
      "29/29 [==============================] - 59s 2s/step - loss: 2.8177 - categorical_accuracy: 0.1742 - val_loss: 4.4569 - val_categorical_accuracy: 0.0827\n",
      "Epoch 9/50\n",
      "29/29 [==============================] - 59s 2s/step - loss: 2.8131 - categorical_accuracy: 0.1818 - val_loss: 4.7883 - val_categorical_accuracy: 0.0757\n",
      "Epoch 10/50\n",
      "29/29 [==============================] - 59s 2s/step - loss: 2.7887 - categorical_accuracy: 0.1873 - val_loss: 4.8745 - val_categorical_accuracy: 0.0715\n",
      "Epoch 11/50\n",
      "29/29 [==============================] - 56s 2s/step - loss: 2.7842 - categorical_accuracy: 0.1852 - val_loss: 3.4849 - val_categorical_accuracy: 0.1010\n",
      "Epoch 12/50\n",
      "29/29 [==============================] - 55s 2s/step - loss: 2.7710 - categorical_accuracy: 0.1914 - val_loss: 4.4036 - val_categorical_accuracy: 0.0799\n",
      "Epoch 13/50\n",
      "29/29 [==============================] - 55s 2s/step - loss: 2.7571 - categorical_accuracy: 0.1942 - val_loss: 3.0137 - val_categorical_accuracy: 0.1290\n",
      "Epoch 14/50\n",
      "29/29 [==============================] - 55s 2s/step - loss: 2.7493 - categorical_accuracy: 0.1928 - val_loss: 4.2778 - val_categorical_accuracy: 0.0715\n",
      "Epoch 15/50\n",
      "29/29 [==============================] - 55s 2s/step - loss: 2.7309 - categorical_accuracy: 0.1963 - val_loss: 4.2514 - val_categorical_accuracy: 0.0701\n",
      "Epoch 16/50\n",
      "29/29 [==============================] - 55s 2s/step - loss: 2.7141 - categorical_accuracy: 0.1970 - val_loss: 4.2016 - val_categorical_accuracy: 0.0940\n",
      "Epoch 17/50\n",
      "29/29 [==============================] - 55s 2s/step - loss: 2.6971 - categorical_accuracy: 0.1997 - val_loss: 3.3152 - val_categorical_accuracy: 0.1080\n",
      "Epoch 18/50\n",
      "29/29 [==============================] - 55s 2s/step - loss: 2.6856 - categorical_accuracy: 0.2156 - val_loss: 3.7294 - val_categorical_accuracy: 0.1122\n",
      "Epoch 19/50\n",
      "29/29 [==============================] - 55s 2s/step - loss: 2.6680 - categorical_accuracy: 0.2198 - val_loss: 3.1548 - val_categorical_accuracy: 0.1262\n",
      "Epoch 20/50\n",
      "29/29 [==============================] - 55s 2s/step - loss: 2.6562 - categorical_accuracy: 0.2094 - val_loss: 3.0183 - val_categorical_accuracy: 0.1234\n",
      "Epoch 21/50\n",
      "29/29 [==============================] - 55s 2s/step - loss: 2.6493 - categorical_accuracy: 0.2149 - val_loss: 4.5338 - val_categorical_accuracy: 0.0856\n",
      "Epoch 22/50\n",
      "29/29 [==============================] - 55s 2s/step - loss: 2.6436 - categorical_accuracy: 0.2170 - val_loss: 3.4677 - val_categorical_accuracy: 0.0982\n",
      "Epoch 23/50\n",
      "29/29 [==============================] - 55s 2s/step - loss: 2.6262 - categorical_accuracy: 0.2177 - val_loss: 3.7444 - val_categorical_accuracy: 0.0771\n",
      "Epoch 24/50\n",
      "29/29 [==============================] - 55s 2s/step - loss: 2.6110 - categorical_accuracy: 0.2122 - val_loss: 3.7563 - val_categorical_accuracy: 0.0701\n",
      "Epoch 25/50\n",
      "29/29 [==============================] - 55s 2s/step - loss: 2.5896 - categorical_accuracy: 0.2377 - val_loss: 3.0739 - val_categorical_accuracy: 0.1431\n",
      "Epoch 26/50\n",
      "29/29 [==============================] - 55s 2s/step - loss: 2.5785 - categorical_accuracy: 0.2225 - val_loss: 3.2510 - val_categorical_accuracy: 0.1360\n",
      "Epoch 27/50\n",
      "29/29 [==============================] - 55s 2s/step - loss: 2.5475 - categorical_accuracy: 0.2281 - val_loss: 2.9207 - val_categorical_accuracy: 0.1529\n",
      "Epoch 28/50\n",
      "29/29 [==============================] - 55s 2s/step - loss: 2.5416 - categorical_accuracy: 0.2294 - val_loss: 2.9785 - val_categorical_accuracy: 0.1403\n",
      "Epoch 29/50\n",
      "29/29 [==============================] - 55s 2s/step - loss: 2.5270 - categorical_accuracy: 0.2446 - val_loss: 3.0756 - val_categorical_accuracy: 0.1318\n",
      "Epoch 30/50\n",
      "29/29 [==============================] - 55s 2s/step - loss: 2.5097 - categorical_accuracy: 0.2446 - val_loss: 2.8716 - val_categorical_accuracy: 0.1388\n",
      "Epoch 31/50\n",
      "29/29 [==============================] - 56s 2s/step - loss: 2.5018 - categorical_accuracy: 0.2502 - val_loss: 3.6584 - val_categorical_accuracy: 0.0856\n",
      "Epoch 32/50\n",
      "29/29 [==============================] - 55s 2s/step - loss: 2.4736 - categorical_accuracy: 0.2557 - val_loss: 3.2778 - val_categorical_accuracy: 0.1318\n",
      "Epoch 33/50\n",
      "29/29 [==============================] - 970s 35s/step - loss: 2.4587 - categorical_accuracy: 0.2543 - val_loss: 3.4058 - val_categorical_accuracy: 0.0926\n",
      "Epoch 34/50\n",
      "29/29 [==============================] - 55s 2s/step - loss: 2.4537 - categorical_accuracy: 0.2550 - val_loss: 2.8809 - val_categorical_accuracy: 0.1571\n",
      "Epoch 35/50\n",
      "29/29 [==============================] - 54s 2s/step - loss: 2.4315 - categorical_accuracy: 0.2674 - val_loss: 3.2624 - val_categorical_accuracy: 0.1332\n",
      "Epoch 36/50\n",
      "29/29 [==============================] - 57s 2s/step - loss: 2.4157 - categorical_accuracy: 0.2633 - val_loss: 3.0906 - val_categorical_accuracy: 0.1276\n",
      "Epoch 37/50\n",
      "29/29 [==============================] - 55s 2s/step - loss: 2.4046 - categorical_accuracy: 0.2744 - val_loss: 3.3287 - val_categorical_accuracy: 0.1178\n",
      "Epoch 38/50\n",
      "29/29 [==============================] - 55s 2s/step - loss: 2.3855 - categorical_accuracy: 0.2757 - val_loss: 2.9687 - val_categorical_accuracy: 0.1753\n",
      "Epoch 39/50\n",
      "29/29 [==============================] - 55s 2s/step - loss: 2.3765 - categorical_accuracy: 0.2730 - val_loss: 3.4096 - val_categorical_accuracy: 0.1417\n",
      "Epoch 40/50\n",
      "29/29 [==============================] - 55s 2s/step - loss: 2.3460 - categorical_accuracy: 0.2889 - val_loss: 3.0323 - val_categorical_accuracy: 0.1599\n",
      "Epoch 41/50\n",
      "29/29 [==============================] - 55s 2s/step - loss: 2.3383 - categorical_accuracy: 0.2723 - val_loss: 3.0572 - val_categorical_accuracy: 0.1164\n",
      "Epoch 42/50\n",
      "29/29 [==============================] - 55s 2s/step - loss: 2.3078 - categorical_accuracy: 0.3013 - val_loss: 3.0497 - val_categorical_accuracy: 0.1206\n",
      "Epoch 43/50\n",
      "29/29 [==============================] - 55s 2s/step - loss: 2.2940 - categorical_accuracy: 0.3027 - val_loss: 2.7955 - val_categorical_accuracy: 0.1641\n",
      "Epoch 44/50\n",
      "29/29 [==============================] - 55s 2s/step - loss: 2.3085 - categorical_accuracy: 0.3013 - val_loss: 5.4460 - val_categorical_accuracy: 0.0701\n",
      "Epoch 45/50\n",
      "29/29 [==============================] - 55s 2s/step - loss: 2.3002 - categorical_accuracy: 0.2951 - val_loss: 3.2499 - val_categorical_accuracy: 0.1332\n",
      "Epoch 46/50\n",
      "29/29 [==============================] - 56s 2s/step - loss: 2.2636 - categorical_accuracy: 0.2985 - val_loss: 3.1341 - val_categorical_accuracy: 0.1445\n",
      "Epoch 47/50\n",
      "29/29 [==============================] - 54s 2s/step - loss: 2.2386 - categorical_accuracy: 0.3193 - val_loss: 3.9886 - val_categorical_accuracy: 0.0870\n",
      "Epoch 48/50\n",
      "29/29 [==============================] - 54s 2s/step - loss: 2.2246 - categorical_accuracy: 0.3220 - val_loss: 3.6189 - val_categorical_accuracy: 0.0996\n",
      "Epoch 49/50\n",
      "29/29 [==============================] - 54s 2s/step - loss: 2.2062 - categorical_accuracy: 0.3110 - val_loss: 2.8915 - val_categorical_accuracy: 0.1529\n",
      "Epoch 50/50\n",
      "29/29 [==============================] - 54s 2s/step - loss: 2.1903 - categorical_accuracy: 0.3262 - val_loss: 2.6853 - val_categorical_accuracy: 0.1865\n"
     ]
    }
   ],
   "source": [
    "history = model.fit(X_train, \n",
    "                    y_train_encoded, \n",
    "                    batch_size=50, \n",
    "                    epochs=50, \n",
    "                    validation_data=(X_test,y_test_encoded),\n",
    "                    verbose=1)"
   ]
  },
  {
   "cell_type": "markdown",
   "metadata": {},
   "source": [
    "## Feed Forward Network"
   ]
  },
  {
   "cell_type": "code",
   "execution_count": 11,
   "metadata": {},
   "outputs": [],
   "source": [
    "# usar rede convolucional PCP\n",
    "X_train_ffn = X_train.reshape(2894,1216,12)\n",
    "X_test_ffn =  X_test.reshape(1426,1216,12)"
   ]
  },
  {
   "cell_type": "code",
   "execution_count": 12,
   "metadata": {},
   "outputs": [],
   "source": [
    "le = LabelEncoder()\n",
    "y_test_encoded = le.fit_transform(y_test)\n",
    "y_train_encoded = le.fit_transform(y_train)\n",
    "\n",
    "#mapping = dict(zip(le.classes_, range(len(le.classes_))))"
   ]
  },
  {
   "cell_type": "code",
   "execution_count": 14,
   "metadata": {},
   "outputs": [
    {
     "name": "stdout",
     "output_type": "stream",
     "text": [
      "Epoch 1/60\n",
      "91/91 [==============================] - ETA: 0s - loss: 3.0646 - accuracy: 0.2429\n",
      "Epoch 1: saving model to dashboard/model_checkpoint\\model.ckpt\n",
      "91/91 [==============================] - 4s 40ms/step - loss: 3.0646 - accuracy: 0.2429 - val_loss: 2.4826 - val_accuracy: 0.3366\n",
      "Epoch 2/60\n",
      "91/91 [==============================] - ETA: 0s - loss: 1.9335 - accuracy: 0.4447\n",
      "Epoch 2: saving model to dashboard/model_checkpoint\\model.ckpt\n",
      "91/91 [==============================] - 3s 37ms/step - loss: 1.9335 - accuracy: 0.4447 - val_loss: 2.4179 - val_accuracy: 0.3689\n",
      "Epoch 3/60\n",
      "91/91 [==============================] - ETA: 0s - loss: 1.6348 - accuracy: 0.5173\n",
      "Epoch 3: saving model to dashboard/model_checkpoint\\model.ckpt\n",
      "91/91 [==============================] - 3s 37ms/step - loss: 1.6348 - accuracy: 0.5173 - val_loss: 2.2609 - val_accuracy: 0.4236\n",
      "Epoch 4/60\n",
      "91/91 [==============================] - ETA: 0s - loss: 1.6008 - accuracy: 0.5508\n",
      "Epoch 4: saving model to dashboard/model_checkpoint\\model.ckpt\n",
      "91/91 [==============================] - 3s 38ms/step - loss: 1.6008 - accuracy: 0.5508 - val_loss: 2.3139 - val_accuracy: 0.4060\n",
      "Epoch 5/60\n",
      "91/91 [==============================] - ETA: 0s - loss: 1.2746 - accuracy: 0.5995\n",
      "Epoch 5: saving model to dashboard/model_checkpoint\\model.ckpt\n",
      "91/91 [==============================] - 3s 38ms/step - loss: 1.2746 - accuracy: 0.5995 - val_loss: 2.4115 - val_accuracy: 0.4313\n",
      "Epoch 6/60\n",
      "91/91 [==============================] - ETA: 0s - loss: 1.1909 - accuracy: 0.6358\n",
      "Epoch 6: saving model to dashboard/model_checkpoint\\model.ckpt\n",
      "91/91 [==============================] - 4s 39ms/step - loss: 1.1909 - accuracy: 0.6358 - val_loss: 2.3460 - val_accuracy: 0.4425\n",
      "Epoch 7/60\n",
      "91/91 [==============================] - ETA: 0s - loss: 1.1733 - accuracy: 0.6434\n",
      "Epoch 7: saving model to dashboard/model_checkpoint\\model.ckpt\n",
      "91/91 [==============================] - 3s 37ms/step - loss: 1.1733 - accuracy: 0.6434 - val_loss: 2.7407 - val_accuracy: 0.4053\n",
      "Epoch 8/60\n",
      "91/91 [==============================] - ETA: 0s - loss: 1.1022 - accuracy: 0.6655\n",
      "Epoch 8: saving model to dashboard/model_checkpoint\\model.ckpt\n",
      "91/91 [==============================] - 3s 38ms/step - loss: 1.1022 - accuracy: 0.6655 - val_loss: 2.5231 - val_accuracy: 0.4404\n",
      "Epoch 9/60\n",
      "91/91 [==============================] - ETA: 0s - loss: 0.9745 - accuracy: 0.6932\n",
      "Epoch 9: saving model to dashboard/model_checkpoint\\model.ckpt\n",
      "91/91 [==============================] - 4s 40ms/step - loss: 0.9745 - accuracy: 0.6932 - val_loss: 2.6490 - val_accuracy: 0.4095\n",
      "Epoch 10/60\n",
      "90/91 [============================>.] - ETA: 0s - loss: 0.9165 - accuracy: 0.7170\n",
      "Epoch 10: saving model to dashboard/model_checkpoint\\model.ckpt\n",
      "91/91 [==============================] - 3s 38ms/step - loss: 0.9170 - accuracy: 0.7167 - val_loss: 2.7598 - val_accuracy: 0.4348\n",
      "Epoch 11/60\n",
      "91/91 [==============================] - ETA: 0s - loss: 0.8202 - accuracy: 0.7419\n",
      "Epoch 11: saving model to dashboard/model_checkpoint\\model.ckpt\n",
      "91/91 [==============================] - 3s 37ms/step - loss: 0.8202 - accuracy: 0.7419 - val_loss: 2.5283 - val_accuracy: 0.4649\n",
      "Epoch 12/60\n",
      "91/91 [==============================] - ETA: 0s - loss: 0.7993 - accuracy: 0.7405\n",
      "Epoch 12: saving model to dashboard/model_checkpoint\\model.ckpt\n",
      "91/91 [==============================] - 3s 37ms/step - loss: 0.7993 - accuracy: 0.7405 - val_loss: 2.9611 - val_accuracy: 0.4348\n",
      "Epoch 13/60\n",
      "90/91 [============================>.] - ETA: 0s - loss: 0.7873 - accuracy: 0.7569\n",
      "Epoch 13: saving model to dashboard/model_checkpoint\\model.ckpt\n",
      "91/91 [==============================] - 3s 37ms/step - loss: 0.7893 - accuracy: 0.7567 - val_loss: 2.8160 - val_accuracy: 0.4628\n",
      "Epoch 14/60\n",
      "91/91 [==============================] - ETA: 0s - loss: 0.7548 - accuracy: 0.7636\n",
      "Epoch 14: saving model to dashboard/model_checkpoint\\model.ckpt\n",
      "91/91 [==============================] - 3s 37ms/step - loss: 0.7548 - accuracy: 0.7636 - val_loss: 3.1174 - val_accuracy: 0.4187\n",
      "Epoch 15/60\n",
      "91/91 [==============================] - ETA: 0s - loss: 0.7263 - accuracy: 0.7585\n",
      "Epoch 15: saving model to dashboard/model_checkpoint\\model.ckpt\n",
      "91/91 [==============================] - 3s 37ms/step - loss: 0.7263 - accuracy: 0.7585 - val_loss: 2.8989 - val_accuracy: 0.4523\n",
      "Epoch 16/60\n",
      "90/91 [============================>.] - ETA: 0s - loss: 0.5753 - accuracy: 0.8198\n",
      "Epoch 16: saving model to dashboard/model_checkpoint\\model.ckpt\n",
      "91/91 [==============================] - 3s 37ms/step - loss: 0.5747 - accuracy: 0.8196 - val_loss: 3.0111 - val_accuracy: 0.4537\n",
      "Epoch 17/60\n",
      "91/91 [==============================] - ETA: 0s - loss: 0.5780 - accuracy: 0.8093\n",
      "Epoch 17: saving model to dashboard/model_checkpoint\\model.ckpt\n",
      "91/91 [==============================] - 3s 37ms/step - loss: 0.5780 - accuracy: 0.8093 - val_loss: 3.1062 - val_accuracy: 0.4411\n",
      "Epoch 18/60\n",
      "91/91 [==============================] - ETA: 0s - loss: 0.5396 - accuracy: 0.8227\n",
      "Epoch 18: saving model to dashboard/model_checkpoint\\model.ckpt\n",
      "91/91 [==============================] - 4s 39ms/step - loss: 0.5396 - accuracy: 0.8227 - val_loss: 3.3408 - val_accuracy: 0.4376\n",
      "Epoch 19/60\n",
      "90/91 [============================>.] - ETA: 0s - loss: 0.5653 - accuracy: 0.8194\n",
      "Epoch 19: saving model to dashboard/model_checkpoint\\model.ckpt\n",
      "91/91 [==============================] - 4s 40ms/step - loss: 0.5662 - accuracy: 0.8189 - val_loss: 3.4077 - val_accuracy: 0.4446\n",
      "Epoch 20/60\n",
      "90/91 [============================>.] - ETA: 0s - loss: 0.5721 - accuracy: 0.8160\n",
      "Epoch 20: saving model to dashboard/model_checkpoint\\model.ckpt\n",
      "91/91 [==============================] - 4s 39ms/step - loss: 0.5728 - accuracy: 0.8155 - val_loss: 3.6836 - val_accuracy: 0.4243\n",
      "Epoch 21/60\n",
      "91/91 [==============================] - ETA: 0s - loss: 0.4627 - accuracy: 0.8542\n",
      "Epoch 21: saving model to dashboard/model_checkpoint\\model.ckpt\n",
      "91/91 [==============================] - 4s 40ms/step - loss: 0.4627 - accuracy: 0.8542 - val_loss: 3.5756 - val_accuracy: 0.4313\n",
      "Epoch 22/60\n",
      "91/91 [==============================] - ETA: 0s - loss: 0.4738 - accuracy: 0.8483\n",
      "Epoch 22: saving model to dashboard/model_checkpoint\\model.ckpt\n",
      "91/91 [==============================] - 4s 39ms/step - loss: 0.4738 - accuracy: 0.8483 - val_loss: 3.6927 - val_accuracy: 0.4355\n",
      "Epoch 23/60\n",
      "91/91 [==============================] - ETA: 0s - loss: 0.4675 - accuracy: 0.8476\n",
      "Epoch 23: saving model to dashboard/model_checkpoint\\model.ckpt\n",
      "91/91 [==============================] - 3s 37ms/step - loss: 0.4675 - accuracy: 0.8476 - val_loss: 3.7997 - val_accuracy: 0.4313\n",
      "Epoch 24/60\n",
      "91/91 [==============================] - ETA: 0s - loss: 0.4460 - accuracy: 0.8559\n",
      "Epoch 24: saving model to dashboard/model_checkpoint\\model.ckpt\n",
      "91/91 [==============================] - 3s 38ms/step - loss: 0.4460 - accuracy: 0.8559 - val_loss: 4.0186 - val_accuracy: 0.4250\n",
      "Epoch 25/60\n",
      "91/91 [==============================] - ETA: 0s - loss: 0.4517 - accuracy: 0.8601\n",
      "Epoch 25: saving model to dashboard/model_checkpoint\\model.ckpt\n",
      "91/91 [==============================] - 3s 35ms/step - loss: 0.4517 - accuracy: 0.8601 - val_loss: 4.0365 - val_accuracy: 0.4418\n",
      "Epoch 26/60\n",
      "90/91 [============================>.] - ETA: 0s - loss: 0.5269 - accuracy: 0.8323\n",
      "Epoch 26: saving model to dashboard/model_checkpoint\\model.ckpt\n",
      "91/91 [==============================] - 3s 35ms/step - loss: 0.5278 - accuracy: 0.8324 - val_loss: 4.1507 - val_accuracy: 0.4474\n",
      "Epoch 27/60\n",
      "91/91 [==============================] - ETA: 0s - loss: 0.4307 - accuracy: 0.8597\n",
      "Epoch 27: saving model to dashboard/model_checkpoint\\model.ckpt\n",
      "91/91 [==============================] - 3s 32ms/step - loss: 0.4307 - accuracy: 0.8597 - val_loss: 3.8710 - val_accuracy: 0.4537\n",
      "Epoch 28/60\n",
      "91/91 [==============================] - ETA: 0s - loss: 0.3353 - accuracy: 0.8832\n",
      "Epoch 28: saving model to dashboard/model_checkpoint\\model.ckpt\n",
      "91/91 [==============================] - 3s 31ms/step - loss: 0.3353 - accuracy: 0.8832 - val_loss: 3.9139 - val_accuracy: 0.4432\n",
      "Epoch 29/60\n",
      "91/91 [==============================] - ETA: 0s - loss: 0.4047 - accuracy: 0.8704\n",
      "Epoch 29: saving model to dashboard/model_checkpoint\\model.ckpt\n",
      "91/91 [==============================] - 3s 32ms/step - loss: 0.4047 - accuracy: 0.8704 - val_loss: 4.1614 - val_accuracy: 0.4530\n",
      "Epoch 30/60\n",
      "91/91 [==============================] - ETA: 0s - loss: 0.4232 - accuracy: 0.8773\n",
      "Epoch 30: saving model to dashboard/model_checkpoint\\model.ckpt\n",
      "91/91 [==============================] - 3s 35ms/step - loss: 0.4232 - accuracy: 0.8773 - val_loss: 4.0681 - val_accuracy: 0.4572\n",
      "Epoch 31/60\n",
      "91/91 [==============================] - ETA: 0s - loss: 0.2429 - accuracy: 0.9171\n",
      "Epoch 31: saving model to dashboard/model_checkpoint\\model.ckpt\n",
      "91/91 [==============================] - 3s 37ms/step - loss: 0.2429 - accuracy: 0.9171 - val_loss: 3.9548 - val_accuracy: 0.4727\n",
      "Epoch 32/60\n",
      "91/91 [==============================] - ETA: 0s - loss: 0.2282 - accuracy: 0.9229\n",
      "Epoch 32: saving model to dashboard/model_checkpoint\\model.ckpt\n",
      "91/91 [==============================] - 3s 35ms/step - loss: 0.2282 - accuracy: 0.9229 - val_loss: 4.0887 - val_accuracy: 0.4607\n",
      "Epoch 33/60\n",
      "90/91 [============================>.] - ETA: 0s - loss: 0.2650 - accuracy: 0.9198\n",
      "Epoch 33: saving model to dashboard/model_checkpoint\\model.ckpt\n",
      "91/91 [==============================] - 4s 40ms/step - loss: 0.2659 - accuracy: 0.9195 - val_loss: 4.5130 - val_accuracy: 0.4383\n",
      "Epoch 34/60\n",
      "90/91 [============================>.] - ETA: 0s - loss: 0.3943 - accuracy: 0.8840\n",
      "Epoch 34: saving model to dashboard/model_checkpoint\\model.ckpt\n",
      "91/91 [==============================] - 4s 41ms/step - loss: 0.3959 - accuracy: 0.8836 - val_loss: 4.4375 - val_accuracy: 0.4460\n",
      "Epoch 35/60\n",
      "90/91 [============================>.] - ETA: 0s - loss: 0.3607 - accuracy: 0.8816\n",
      "Epoch 35: saving model to dashboard/model_checkpoint\\model.ckpt\n",
      "91/91 [==============================] - 3s 38ms/step - loss: 0.3605 - accuracy: 0.8818 - val_loss: 4.6470 - val_accuracy: 0.4544\n",
      "Epoch 36/60\n",
      "91/91 [==============================] - ETA: 0s - loss: 0.4847 - accuracy: 0.8525\n",
      "Epoch 36: saving model to dashboard/model_checkpoint\\model.ckpt\n",
      "91/91 [==============================] - 3s 38ms/step - loss: 0.4847 - accuracy: 0.8525 - val_loss: 5.0060 - val_accuracy: 0.4144\n",
      "Epoch 37/60\n",
      "91/91 [==============================] - ETA: 0s - loss: 0.6075 - accuracy: 0.8338\n",
      "Epoch 37: saving model to dashboard/model_checkpoint\\model.ckpt\n",
      "91/91 [==============================] - 3s 38ms/step - loss: 0.6075 - accuracy: 0.8338 - val_loss: 5.3339 - val_accuracy: 0.4299\n",
      "Epoch 38/60\n",
      "91/91 [==============================] - ETA: 0s - loss: 0.4876 - accuracy: 0.8728\n",
      "Epoch 38: saving model to dashboard/model_checkpoint\\model.ckpt\n",
      "91/91 [==============================] - 3s 37ms/step - loss: 0.4876 - accuracy: 0.8728 - val_loss: 5.7619 - val_accuracy: 0.4271\n",
      "Epoch 39/60\n",
      "91/91 [==============================] - ETA: 0s - loss: 0.6377 - accuracy: 0.8490\n",
      "Epoch 39: saving model to dashboard/model_checkpoint\\model.ckpt\n",
      "91/91 [==============================] - 3s 37ms/step - loss: 0.6377 - accuracy: 0.8490 - val_loss: 5.2332 - val_accuracy: 0.4257\n",
      "Epoch 40/60\n",
      "90/91 [============================>.] - ETA: 0s - loss: 0.4544 - accuracy: 0.8646\n",
      "Epoch 40: saving model to dashboard/model_checkpoint\\model.ckpt\n",
      "91/91 [==============================] - 3s 37ms/step - loss: 0.4539 - accuracy: 0.8645 - val_loss: 5.4952 - val_accuracy: 0.4222\n",
      "Epoch 41/60\n",
      "90/91 [============================>.] - ETA: 0s - loss: 0.2837 - accuracy: 0.9125\n",
      "Epoch 41: saving model to dashboard/model_checkpoint\\model.ckpt\n",
      "91/91 [==============================] - 3s 37ms/step - loss: 0.2824 - accuracy: 0.9129 - val_loss: 5.3076 - val_accuracy: 0.4201\n",
      "Epoch 42/60\n",
      "91/91 [==============================] - ETA: 0s - loss: 0.1974 - accuracy: 0.9354\n",
      "Epoch 42: saving model to dashboard/model_checkpoint\\model.ckpt\n",
      "91/91 [==============================] - 3s 38ms/step - loss: 0.1974 - accuracy: 0.9354 - val_loss: 4.9869 - val_accuracy: 0.4579\n",
      "Epoch 43/60\n",
      "91/91 [==============================] - ETA: 0s - loss: 0.1405 - accuracy: 0.9534\n",
      "Epoch 43: saving model to dashboard/model_checkpoint\\model.ckpt\n",
      "91/91 [==============================] - 3s 36ms/step - loss: 0.1405 - accuracy: 0.9534 - val_loss: 5.0398 - val_accuracy: 0.4719\n",
      "Epoch 44/60\n",
      "90/91 [============================>.] - ETA: 0s - loss: 0.1275 - accuracy: 0.9580\n",
      "Epoch 44: saving model to dashboard/model_checkpoint\\model.ckpt\n",
      "91/91 [==============================] - 3s 38ms/step - loss: 0.1271 - accuracy: 0.9582 - val_loss: 5.1440 - val_accuracy: 0.4467\n",
      "Epoch 45/60\n",
      "90/91 [============================>.] - ETA: 0s - loss: 0.1656 - accuracy: 0.9465\n",
      "Epoch 45: saving model to dashboard/model_checkpoint\\model.ckpt\n",
      "91/91 [==============================] - 3s 39ms/step - loss: 0.1665 - accuracy: 0.9461 - val_loss: 5.2261 - val_accuracy: 0.4376\n",
      "Epoch 46/60\n",
      "90/91 [============================>.] - ETA: 0s - loss: 0.1926 - accuracy: 0.9378\n",
      "Epoch 46: saving model to dashboard/model_checkpoint\\model.ckpt\n",
      "91/91 [==============================] - 3s 38ms/step - loss: 0.1920 - accuracy: 0.9381 - val_loss: 5.3625 - val_accuracy: 0.4727\n",
      "Epoch 47/60\n",
      "91/91 [==============================] - ETA: 0s - loss: 0.1625 - accuracy: 0.9568\n",
      "Epoch 47: saving model to dashboard/model_checkpoint\\model.ckpt\n",
      "91/91 [==============================] - 3s 38ms/step - loss: 0.1625 - accuracy: 0.9568 - val_loss: 5.5243 - val_accuracy: 0.4544\n",
      "Epoch 48/60\n",
      "91/91 [==============================] - ETA: 0s - loss: 0.1970 - accuracy: 0.9395\n",
      "Epoch 48: saving model to dashboard/model_checkpoint\\model.ckpt\n",
      "91/91 [==============================] - 3s 37ms/step - loss: 0.1970 - accuracy: 0.9395 - val_loss: 5.1847 - val_accuracy: 0.4621\n",
      "Epoch 49/60\n",
      "91/91 [==============================] - ETA: 0s - loss: 0.1656 - accuracy: 0.9451\n",
      "Epoch 49: saving model to dashboard/model_checkpoint\\model.ckpt\n",
      "91/91 [==============================] - 4s 39ms/step - loss: 0.1656 - accuracy: 0.9451 - val_loss: 5.6922 - val_accuracy: 0.4383\n",
      "Epoch 50/60\n",
      "91/91 [==============================] - ETA: 0s - loss: 0.4444 - accuracy: 0.8815\n",
      "Epoch 50: saving model to dashboard/model_checkpoint\\model.ckpt\n",
      "91/91 [==============================] - 3s 38ms/step - loss: 0.4444 - accuracy: 0.8815 - val_loss: 5.8447 - val_accuracy: 0.4432\n",
      "Epoch 51/60\n",
      "90/91 [============================>.] - ETA: 0s - loss: 0.7434 - accuracy: 0.8333\n",
      "Epoch 51: saving model to dashboard/model_checkpoint\\model.ckpt\n",
      "91/91 [==============================] - 3s 38ms/step - loss: 0.7463 - accuracy: 0.8324 - val_loss: 5.9777 - val_accuracy: 0.4313\n",
      "Epoch 52/60\n",
      "91/91 [==============================] - ETA: 0s - loss: 0.4659 - accuracy: 0.8756\n",
      "Epoch 52: saving model to dashboard/model_checkpoint\\model.ckpt\n",
      "91/91 [==============================] - 3s 37ms/step - loss: 0.4659 - accuracy: 0.8756 - val_loss: 6.1412 - val_accuracy: 0.4432\n",
      "Epoch 53/60\n",
      "91/91 [==============================] - ETA: 0s - loss: 0.3465 - accuracy: 0.8950\n",
      "Epoch 53: saving model to dashboard/model_checkpoint\\model.ckpt\n",
      "91/91 [==============================] - 4s 39ms/step - loss: 0.3465 - accuracy: 0.8950 - val_loss: 6.2318 - val_accuracy: 0.4474\n",
      "Epoch 54/60\n",
      "90/91 [============================>.] - ETA: 0s - loss: 0.4195 - accuracy: 0.8990\n",
      "Epoch 54: saving model to dashboard/model_checkpoint\\model.ckpt\n",
      "91/91 [==============================] - 3s 37ms/step - loss: 0.4193 - accuracy: 0.8991 - val_loss: 6.5269 - val_accuracy: 0.4397\n",
      "Epoch 55/60\n",
      "91/91 [==============================] - ETA: 0s - loss: 0.9541 - accuracy: 0.8552\n",
      "Epoch 55: saving model to dashboard/model_checkpoint\\model.ckpt\n",
      "91/91 [==============================] - 3s 38ms/step - loss: 0.9541 - accuracy: 0.8552 - val_loss: 6.3378 - val_accuracy: 0.4327\n",
      "Epoch 56/60\n",
      "91/91 [==============================] - ETA: 0s - loss: 0.4125 - accuracy: 0.8925\n",
      "Epoch 56: saving model to dashboard/model_checkpoint\\model.ckpt\n",
      "91/91 [==============================] - 3s 37ms/step - loss: 0.4125 - accuracy: 0.8925 - val_loss: 6.5349 - val_accuracy: 0.4481\n",
      "Epoch 57/60\n",
      "90/91 [============================>.] - ETA: 0s - loss: 0.4962 - accuracy: 0.9122\n",
      "Epoch 57: saving model to dashboard/model_checkpoint\\model.ckpt\n",
      "91/91 [==============================] - 3s 37ms/step - loss: 0.4943 - accuracy: 0.9126 - val_loss: 6.2264 - val_accuracy: 0.4593\n",
      "Epoch 58/60\n",
      "91/91 [==============================] - ETA: 0s - loss: 0.1942 - accuracy: 0.9413\n",
      "Epoch 58: saving model to dashboard/model_checkpoint\\model.ckpt\n",
      "91/91 [==============================] - 3s 37ms/step - loss: 0.1942 - accuracy: 0.9413 - val_loss: 5.9427 - val_accuracy: 0.4509\n",
      "Epoch 59/60\n",
      "91/91 [==============================] - ETA: 0s - loss: 0.1440 - accuracy: 0.9585\n",
      "Epoch 59: saving model to dashboard/model_checkpoint\\model.ckpt\n",
      "91/91 [==============================] - 3s 37ms/step - loss: 0.1440 - accuracy: 0.9585 - val_loss: 6.1492 - val_accuracy: 0.4334\n",
      "Epoch 60/60\n",
      "91/91 [==============================] - ETA: 0s - loss: 0.1110 - accuracy: 0.9679\n",
      "Epoch 60: saving model to dashboard/model_checkpoint\\model.ckpt\n",
      "91/91 [==============================] - 3s 36ms/step - loss: 0.1110 - accuracy: 0.9679 - val_loss: 6.0276 - val_accuracy: 0.4677\n",
      "45/45 - 0s - loss: 6.0276 - accuracy: 0.4677 - 162ms/epoch - 4ms/step\n",
      "\n",
      "Test accuracy: 0.4677419364452362\n"
     ]
    }
   ],
   "source": [
    "\n",
    "\n",
    "def sigmoid(hidden_layer):\n",
    "    model_relu = tf.keras.models.Sequential([ \n",
    "        tf.keras.layers.Flatten(input_shape=(1216,12)), \n",
    "        tf.keras.layers.Dense(128),\n",
    "        tf.keras.layers.Dense(256),\n",
    "        tf.keras.layers.Dense(42,activation='softmax')\n",
    "  ]) \n",
    "\n",
    "#Compiling using loss function, Optimizer and Metrics\n",
    "    model_relu.compile(optimizer='adam',\n",
    "              loss=tf.keras.losses.SparseCategoricalCrossentropy(from_logits=False),\n",
    "              metrics=['accuracy'])\n",
    "    return model_relu\n",
    "\n",
    "\n",
    "\n",
    "\n",
    "\n",
    "\n",
    "#Feeding the model and Evalutating the Accuracy\n",
    "def model_fitting(model_fit):\n",
    "    checkpoint_path = \"dashboard/model_checkpoint/model.ckpt\"\n",
    "    checkpoint_dir = os.path.dirname(checkpoint_path)\n",
    "\n",
    "    # Create a callback that saves the model's weights\n",
    "    cp_callback = tf.keras.callbacks.ModelCheckpoint(filepath=checkpoint_path,\n",
    "                                                    save_weights_only=True,\n",
    "                                                    verbose=1)\n",
    "    #teste como validacao pra ver o momento que erro começou a subir\n",
    "    model_fit.fit(X_train_ffn, y_train_encoded, epochs=60, validation_data=(X_test_ffn,y_test_encoded), callbacks = [cp_callback])\n",
    "    test_loss, test_accuracy = model_fit.evaluate(X_test_ffn,  y_test_encoded, verbose=2)\n",
    "    print('\\nTest accuracy:', test_accuracy)\n",
    "    return test_accuracy, test_loss\n",
    "\n",
    "#Intializing the final array\n",
    "err = np.zeros(4)\n",
    "loss = np.zeros(4)\n",
    "\n",
    "#ReLU with 128 hidden values\n",
    "model = sigmoid(128)\n",
    "err[0],loss[0] = model_fitting(model)"
   ]
  },
  {
   "cell_type": "code",
   "execution_count": 11,
   "metadata": {},
   "outputs": [
    {
     "name": "stdout",
     "output_type": "stream",
     "text": [
      "ERROR:tensorflow:Couldn't match files for checkpoint dashboard\\model.ckpt\n"
     ]
    }
   ],
   "source": [
    "checkpoint_path = \"dashboard/model.ckpt\"\n",
    "checkpoint_dir = os.path.dirname(checkpoint_path)\n",
    "\n",
    "latest = tf.train.latest_checkpoint(checkpoint_dir)\n",
    "latest"
   ]
  },
  {
   "cell_type": "code",
   "execution_count": 14,
   "metadata": {},
   "outputs": [
    {
     "data": {
      "text/plain": [
       "<tensorflow.python.checkpoint.checkpoint.CheckpointLoadStatus at 0x1f0ee79f850>"
      ]
     },
     "execution_count": 14,
     "metadata": {},
     "output_type": "execute_result"
    }
   ],
   "source": [
    "# Create a new model instance\n",
    "model = sigmoid(128)\n",
    "\n",
    "# Load the previously saved weights\n",
    "model.load_weights(latest)\n"
   ]
  },
  {
   "cell_type": "code",
   "execution_count": 10,
   "metadata": {},
   "outputs": [
    {
     "name": "stdout",
     "output_type": "stream",
     "text": [
      "23/23 - 0s - loss: 1.5765 - accuracy: 0.7251 - 132ms/epoch - 6ms/step\n"
     ]
    }
   ],
   "source": [
    "test_loss, test_accuracy = model.evaluate(X_test_ffn,  y_test_encoded, verbose=2)"
   ]
  },
  {
   "cell_type": "code",
   "execution_count": 28,
   "metadata": {},
   "outputs": [
    {
     "data": {
      "text/plain": [
       "array([[[0., 0., 0., ..., 0., 0., 0.],\n",
       "        [0., 0., 0., ..., 0., 0., 0.],\n",
       "        [0., 0., 0., ..., 0., 0., 0.],\n",
       "        ...,\n",
       "        [0., 0., 0., ..., 0., 0., 0.],\n",
       "        [0., 0., 0., ..., 0., 0., 0.],\n",
       "        [0., 0., 0., ..., 0., 0., 0.]]], dtype=float32)"
      ]
     },
     "execution_count": 28,
     "metadata": {},
     "output_type": "execute_result"
    }
   ],
   "source": [
    "X_test_ffn[0,:,:].reshape(1, 1216,12)"
   ]
  },
  {
   "cell_type": "code",
   "execution_count": 31,
   "metadata": {},
   "outputs": [
    {
     "data": {
      "text/html": [
       "<div>\n",
       "<style scoped>\n",
       "    .dataframe tbody tr th:only-of-type {\n",
       "        vertical-align: middle;\n",
       "    }\n",
       "\n",
       "    .dataframe tbody tr th {\n",
       "        vertical-align: top;\n",
       "    }\n",
       "\n",
       "    .dataframe thead th {\n",
       "        text-align: right;\n",
       "    }\n",
       "</style>\n",
       "<table border=\"1\" class=\"dataframe\">\n",
       "  <thead>\n",
       "    <tr style=\"text-align: right;\">\n",
       "      <th></th>\n",
       "      <th>Filename</th>\n",
       "      <th>Loc</th>\n",
       "      <th>Acorde</th>\n",
       "      <th>Arquivo Original</th>\n",
       "      <th>most_freq</th>\n",
       "    </tr>\n",
       "  </thead>\n",
       "  <tbody>\n",
       "    <tr>\n",
       "      <th>0</th>\n",
       "      <td>file_1393.wav</td>\n",
       "      <td>processed_audio/</td>\n",
       "      <td>A#:min</td>\n",
       "      <td>01_SS2-88-F_comp_hex.wav</td>\n",
       "      <td>0</td>\n",
       "    </tr>\n",
       "    <tr>\n",
       "      <th>1</th>\n",
       "      <td>file_1394.wav</td>\n",
       "      <td>processed_audio/</td>\n",
       "      <td>D#:7</td>\n",
       "      <td>01_SS2-88-F_comp_hex.wav</td>\n",
       "      <td>0</td>\n",
       "    </tr>\n",
       "    <tr>\n",
       "      <th>2</th>\n",
       "      <td>file_1395.wav</td>\n",
       "      <td>processed_audio/</td>\n",
       "      <td>G#:maj</td>\n",
       "      <td>01_SS2-88-F_comp_hex.wav</td>\n",
       "      <td>1</td>\n",
       "    </tr>\n",
       "    <tr>\n",
       "      <th>3</th>\n",
       "      <td>file_1396.wav</td>\n",
       "      <td>processed_audio/</td>\n",
       "      <td>C#:maj</td>\n",
       "      <td>01_SS2-88-F_comp_hex.wav</td>\n",
       "      <td>1</td>\n",
       "    </tr>\n",
       "    <tr>\n",
       "      <th>4</th>\n",
       "      <td>file_1397.wav</td>\n",
       "      <td>processed_audio/</td>\n",
       "      <td>G:hdim7</td>\n",
       "      <td>01_SS2-88-F_comp_hex.wav</td>\n",
       "      <td>0</td>\n",
       "    </tr>\n",
       "    <tr>\n",
       "      <th>...</th>\n",
       "      <td>...</td>\n",
       "      <td>...</td>\n",
       "      <td>...</td>\n",
       "      <td>...</td>\n",
       "      <td>...</td>\n",
       "    </tr>\n",
       "    <tr>\n",
       "      <th>2155</th>\n",
       "      <td>file_180806.wav</td>\n",
       "      <td>processed_audio/</td>\n",
       "      <td>F:min</td>\n",
       "      <td>00_Funk3-112-C#_comp_hex.wav</td>\n",
       "      <td>0</td>\n",
       "    </tr>\n",
       "    <tr>\n",
       "      <th>2156</th>\n",
       "      <td>file_180807.wav</td>\n",
       "      <td>processed_audio/</td>\n",
       "      <td>F#:maj</td>\n",
       "      <td>00_Funk3-112-C#_comp_hex.wav</td>\n",
       "      <td>1</td>\n",
       "    </tr>\n",
       "    <tr>\n",
       "      <th>2157</th>\n",
       "      <td>file_180808.wav</td>\n",
       "      <td>processed_audio/</td>\n",
       "      <td>C#:maj</td>\n",
       "      <td>00_Funk3-112-C#_comp_hex.wav</td>\n",
       "      <td>1</td>\n",
       "    </tr>\n",
       "    <tr>\n",
       "      <th>2158</th>\n",
       "      <td>file_180809.wav</td>\n",
       "      <td>processed_audio/</td>\n",
       "      <td>F#:maj</td>\n",
       "      <td>00_Funk3-112-C#_comp_hex.wav</td>\n",
       "      <td>1</td>\n",
       "    </tr>\n",
       "    <tr>\n",
       "      <th>2159</th>\n",
       "      <td>file_180810.wav</td>\n",
       "      <td>processed_audio/</td>\n",
       "      <td>G#:maj</td>\n",
       "      <td>00_Funk3-112-C#_comp_hex.wav</td>\n",
       "      <td>1</td>\n",
       "    </tr>\n",
       "  </tbody>\n",
       "</table>\n",
       "<p>2160 rows × 5 columns</p>\n",
       "</div>"
      ],
      "text/plain": [
       "             Filename               Loc   Acorde  \\\n",
       "0       file_1393.wav  processed_audio/   A#:min   \n",
       "1       file_1394.wav  processed_audio/     D#:7   \n",
       "2       file_1395.wav  processed_audio/   G#:maj   \n",
       "3       file_1396.wav  processed_audio/   C#:maj   \n",
       "4       file_1397.wav  processed_audio/  G:hdim7   \n",
       "...               ...               ...      ...   \n",
       "2155  file_180806.wav  processed_audio/    F:min   \n",
       "2156  file_180807.wav  processed_audio/   F#:maj   \n",
       "2157  file_180808.wav  processed_audio/   C#:maj   \n",
       "2158  file_180809.wav  processed_audio/   F#:maj   \n",
       "2159  file_180810.wav  processed_audio/   G#:maj   \n",
       "\n",
       "                  Arquivo Original  most_freq  \n",
       "0         01_SS2-88-F_comp_hex.wav          0  \n",
       "1         01_SS2-88-F_comp_hex.wav          0  \n",
       "2         01_SS2-88-F_comp_hex.wav          1  \n",
       "3         01_SS2-88-F_comp_hex.wav          1  \n",
       "4         01_SS2-88-F_comp_hex.wav          0  \n",
       "...                            ...        ...  \n",
       "2155  00_Funk3-112-C#_comp_hex.wav          0  \n",
       "2156  00_Funk3-112-C#_comp_hex.wav          1  \n",
       "2157  00_Funk3-112-C#_comp_hex.wav          1  \n",
       "2158  00_Funk3-112-C#_comp_hex.wav          1  \n",
       "2159  00_Funk3-112-C#_comp_hex.wav          1  \n",
       "\n",
       "[2160 rows x 5 columns]"
      ]
     },
     "execution_count": 31,
     "metadata": {},
     "output_type": "execute_result"
    }
   ],
   "source": [
    "df_chords"
   ]
  },
  {
   "cell_type": "code",
   "execution_count": 57,
   "metadata": {},
   "outputs": [
    {
     "name": "stdout",
     "output_type": "stream",
     "text": [
      "1/1 [==============================] - 0s 26ms/step\n"
     ]
    },
    {
     "data": {
      "text/plain": [
       "'A#:maj'"
      ]
     },
     "execution_count": 57,
     "metadata": {},
     "output_type": "execute_result"
    }
   ],
   "source": [
    "#model.predict(X_test_ffn)[1, :]\n",
    "#X[0,:,:]\n",
    "\n",
    "#predição correta\n",
    "\n",
    "pred_aux = model.predict(X[0,:,:].reshape(1, 1216,12))\n",
    "\n",
    "nn.get_chord(pred_aux)\n",
    "\n",
    "#df_chords"
   ]
  },
  {
   "cell_type": "code",
   "execution_count": 87,
   "metadata": {},
   "outputs": [],
   "source": [
    "import dashboard.preprocessing_pipeline as pp \n",
    "\n",
    "#chroma = pp.PCP('dashboard/audio_teste.wav')[:, :1216]\n",
    "chroma2 =  pp.PCP('dashboard/chord_x.wav')[:, :1216]\n",
    "#padding = pp.add_padding(chroma2)\n",
    "# chroma = np.pad(chroma2, pad_width = ((0,0), (0,1216-chroma2.shape[1])))\n",
    "\n",
    "# padded_chroma = pp.add_padding(tf.expand_dims(chroma, 0))\n",
    "# expand_chroma = tf.expand_dims(padded_chroma[0], 1)\n",
    "# reshaped_chroma = tf.reshape(expand_chroma, [1, 1216, 12])"
   ]
  },
  {
   "cell_type": "code",
   "execution_count": 81,
   "metadata": {},
   "outputs": [
    {
     "data": {
      "text/plain": [
       "(12, 2397)"
      ]
     },
     "execution_count": 81,
     "metadata": {},
     "output_type": "execute_result"
    }
   ],
   "source": []
  },
  {
   "cell_type": "code",
   "execution_count": 88,
   "metadata": {},
   "outputs": [],
   "source": [
    "# Given an numpy array of features, zero-pads each ocurrence to max_padding\n",
    "def add_padding(features, max_padding=174):\n",
    "    padded = []\n",
    "\n",
    "    # Add padding\n",
    "    for i in range(len(features)):\n",
    "        px = features[i]\n",
    "        size = len(px[0])\n",
    "        # Add padding if required\n",
    "        if (size < max_padding):\n",
    "            xDiff = max_padding - size\n",
    "            xLeft = xDiff//2\n",
    "            xRight = xDiff-xLeft\n",
    "            px = np.pad(px, pad_width=((0,0), (xLeft, xRight)), mode='constant')\n",
    "        \n",
    "        padded.append(px)\n",
    "\n",
    "    return padded\n",
    "\n",
    "padded  = add_padding([chroma2], max_padding= 1216)\n",
    "reshaped_padded = padded[0].reshape(1,1216,12)\n"
   ]
  },
  {
   "cell_type": "code",
   "execution_count": 89,
   "metadata": {},
   "outputs": [
    {
     "name": "stdout",
     "output_type": "stream",
     "text": [
      "1/1 [==============================] - 0s 25ms/step\n"
     ]
    },
    {
     "data": {
      "text/plain": [
       "'E:hdim7'"
      ]
     },
     "execution_count": 89,
     "metadata": {},
     "output_type": "execute_result"
    }
   ],
   "source": [
    "pred_pipeline = model.predict(reshaped_padded)\n",
    "\n",
    "import dashboard.nn_amodel as nn \n",
    "\n",
    "\n",
    "nn.get_chord(pred_pipeline)\n",
    "\n",
    "#reshaped_chroma.shape"
   ]
  },
  {
   "cell_type": "code",
   "execution_count": 28,
   "metadata": {},
   "outputs": [
    {
     "data": {
      "text/plain": [
       "<matplotlib.collections.QuadMesh at 0x2abaedafb50>"
      ]
     },
     "execution_count": 28,
     "metadata": {},
     "output_type": "execute_result"
    },
    {
     "data": {
      "image/png": "[encoded data removed]",
      "text/plain": [
       "<Figure size 640x480 with 1 Axes>"
      ]
     },
     "metadata": {},
     "output_type": "display_data"
    }
   ],
   "source": [
    "import librosa\n",
    "librosa.display.specshow(chroma, y_axis='chroma', x_axis = 'time')\n"
   ]
  },
  {
   "cell_type": "code",
   "execution_count": 30,
   "metadata": {},
   "outputs": [
    {
     "data": {
      "text/plain": [
       "array([[0.37333637, 0.48328066, 0.48328066, ..., 0.07839249, 0.07940821,\n",
       "        0.07940821],\n",
       "       [0.42284214, 0.48739442, 0.4570775 , ..., 0.05244875, 0.05269052,\n",
       "        0.05269052],\n",
       "       [0.53522927, 0.54242903, 0.53522927, ..., 0.02593376, 0.02611391,\n",
       "        0.02623735],\n",
       "       ...,\n",
       "       [0.6381211 , 0.6381211 , 0.6381211 , ..., 0.07635138, 0.07727032,\n",
       "        0.07727032],\n",
       "       [0.54326725, 0.54326725, 0.54326725, ..., 0.09062101, 0.09167526,\n",
       "        0.09167526],\n",
       "       [0.47837007, 0.47837007, 0.47837007, ..., 0.08819962, 0.08965237,\n",
       "        0.08965237]], dtype=float32)"
      ]
     },
     "execution_count": 30,
     "metadata": {},
     "output_type": "execute_result"
    }
   ],
   "source": []
  },
  {
   "cell_type": "markdown",
   "metadata": {},
   "source": [
    "## Metrics"
   ]
  },
  {
   "cell_type": "code",
   "execution_count": 27,
   "metadata": {},
   "outputs": [
    {
     "name": "stdout",
     "output_type": "stream",
     "text": [
      "23/23 [==============================] - 0s 4ms/step\n",
      "F1-Score:  0.6428898093241839\n",
      "F1-Score:  0.6428898093241839\n",
      "              precision    recall  f1-score   support\n",
      "\n",
      "        A#:7       0.00      0.00      0.00         3\n",
      "    A#:hdim7       0.33      0.67      0.44         3\n",
      "      A#:maj       0.65      0.81      0.72        32\n",
      "      A#:min       0.93      0.76      0.84        17\n",
      "         A:7       0.67      1.00      0.80         4\n",
      "     A:hdim7       1.00      0.33      0.50         3\n",
      "       A:maj       0.73      0.87      0.79        31\n",
      "       A:min       0.62      0.73      0.67        11\n",
      "       B:maj       0.56      0.69      0.62        26\n",
      "       B:min       0.56      0.36      0.43        14\n",
      "        C#:7       0.12      0.11      0.12         9\n",
      "    C#:hdim7       1.00      1.00      1.00         3\n",
      "      C#:maj       0.88      0.82      0.85        45\n",
      "      C#:min       0.80      0.80      0.80        15\n",
      "         C:7       0.92      0.80      0.86        15\n",
      "     C:hdim7       0.80      0.67      0.73         6\n",
      "       C:maj       0.88      0.80      0.83        44\n",
      "       C:min       0.50      0.22      0.31         9\n",
      "        D#:7       0.82      0.78      0.80        18\n",
      "      D#:maj       0.80      0.80      0.80        40\n",
      "      D#:min       0.75      0.50      0.60         6\n",
      "         D:7       0.00      0.00      0.00         3\n",
      "       D:maj       0.66      0.72      0.69        29\n",
      "       D:min       1.00      0.90      0.95        10\n",
      "         E:7       0.33      0.33      0.33         6\n",
      "     E:hdim7       0.80      1.00      0.89         4\n",
      "       E:maj       0.79      0.79      0.79        33\n",
      "       E:min       0.62      0.70      0.65        23\n",
      "        F#:7       0.73      0.89      0.80         9\n",
      "      F#:maj       0.72      0.82      0.77        34\n",
      "      F#:min       1.00      0.44      0.62         9\n",
      "         F:7       0.67      0.50      0.57         4\n",
      "     F:hdim7       0.40      0.40      0.40         5\n",
      "       F:maj       0.75      0.89      0.82        45\n",
      "       F:min       1.00      0.79      0.88        14\n",
      "        G#:7       1.00      0.50      0.67         2\n",
      "    G#:hdim7       0.00      0.00      0.00         2\n",
      "      G#:maj       0.81      0.86      0.83        35\n",
      "      G#:min       0.75      0.71      0.73        21\n",
      "     G:hdim7       0.75      0.50      0.60         6\n",
      "       G:maj       0.76      0.70      0.73        46\n",
      "       G:min       0.82      0.74      0.78        19\n",
      "\n",
      "    accuracy                           0.74       713\n",
      "   macro avg       0.68      0.64      0.64       713\n",
      "weighted avg       0.75      0.74      0.74       713\n",
      "\n"
     ]
    }
   ],
   "source": [
    "from sklearn.metrics import f1_score\n",
    "from sklearn.metrics import classification_report\n",
    "\n",
    "preds_score = model.predict(X_test)\n",
    "pred_idx = tf.math.argmax(preds_score, axis = 1)\n",
    "#y_test_idx = tf.math.argmax(y_test_encoded, axis = 1)\n",
    "target_names = mapping.keys()\n",
    "\n",
    "print('F1-Score: ', f1_score(y_test_encoded, pred_idx, average = 'macro'))\n",
    "print('F1-Score: ', f1_score(y_test_encoded, pred_idx, average = 'macro'))\n",
    "\n",
    "print(classification_report(y_test_encoded, pred_idx, target_names= target_names))\n"
   ]
  },
  {
   "cell_type": "code",
   "execution_count": 25,
   "metadata": {},
   "outputs": [
    {
     "data": {
      "text/plain": [
       "(713,)"
      ]
     },
     "execution_count": 25,
     "metadata": {},
     "output_type": "execute_result"
    }
   ],
   "source": [
    "y_test_encoded.shape"
   ]
  },
  {
   "cell_type": "code",
   "execution_count": 35,
   "metadata": {},
   "outputs": [
    {
     "data": {
      "text/plain": [
       "<tf.Tensor: shape=(373,), dtype=int64, numpy=\n",
       "array([4, 1, 2, 1, 0, 7, 1, 3, 6, 4, 6, 4, 6, 7, 5, 8, 5, 8, 3, 8, 5, 0,\n",
       "       0, 7, 7, 1, 3, 3, 7, 2, 5, 7, 3, 2, 9, 5, 4, 4, 3, 4, 3, 9, 0, 6,\n",
       "       5, 8, 9, 1, 3, 4, 7, 8, 8, 1, 5, 4, 7, 1, 7, 7, 4, 9, 9, 0, 9, 7,\n",
       "       8, 9, 9, 3, 1, 1, 7, 9, 0, 7, 7, 1, 8, 2, 8, 9, 7, 5, 1, 0, 7, 5,\n",
       "       1, 1, 5, 4, 2, 8, 0, 7, 9, 5, 1, 6, 9, 5, 8, 9, 4, 8, 2, 6, 9, 0,\n",
       "       9, 2, 5, 4, 7, 7, 3, 6, 0, 9, 6, 5, 6, 3, 1, 5, 3, 1, 2, 4, 7, 5,\n",
       "       9, 2, 8, 2, 4, 6, 2, 6, 9, 4, 3, 1, 4, 9, 1, 4, 8, 9, 5, 6, 6, 7,\n",
       "       7, 1, 3, 7, 3, 8, 2, 7, 1, 6, 5, 9, 4, 2, 8, 6, 9, 2, 2, 6, 0, 5,\n",
       "       2, 8, 0, 8, 8, 0, 5, 0, 7, 4, 7, 5, 1, 9, 2, 9, 7, 8, 0, 4, 7, 3,\n",
       "       3, 7, 0, 9, 6, 2, 9, 3, 0, 9, 9, 6, 4, 1, 3, 2, 7, 4, 4, 9, 8, 6,\n",
       "       1, 7, 1, 5, 0, 1, 8, 2, 2, 6, 7, 1, 7, 7, 6, 1, 2, 4, 1, 7, 3, 1,\n",
       "       8, 4, 9, 4, 9, 7, 8, 5, 8, 4, 9, 2, 9, 2, 8, 7, 1, 4, 1, 4, 2, 1,\n",
       "       0, 0, 1, 8, 2, 2, 6, 6, 4, 9, 7, 4, 7, 5, 3, 4, 5, 7, 9, 5, 5, 9,\n",
       "       5, 3, 7, 3, 9, 6, 8, 2, 2, 7, 0, 4, 9, 8, 8, 8, 2, 6, 2, 8, 8, 0,\n",
       "       9, 9, 5, 6, 5, 1, 2, 0, 9, 7, 6, 5, 0, 1, 6, 7, 8, 1, 8, 6, 3, 3,\n",
       "       2, 4, 1, 1, 5, 0, 1, 8, 7, 3, 6, 7, 5, 2, 3, 6, 2, 6, 5, 5, 8, 4,\n",
       "       9, 0, 5, 6, 4, 0, 9, 7, 7, 5, 9, 7, 8, 4, 7, 9, 9, 8, 9, 2, 2],\n",
       "      dtype=int64)>"
      ]
     },
     "execution_count": 35,
     "metadata": {},
     "output_type": "execute_result"
    }
   ],
   "source": [
    "from sklearn.metrics import f1_score\n",
    "import tensorflow as tf\n",
    "#print('Acurácia: ', f1_score(y_test, preds))"
   ]
  },
  {
   "cell_type": "code",
   "execution_count": 24,
   "metadata": {},
   "outputs": [
    {
     "name": "stdout",
     "output_type": "stream",
     "text": [
      "WARNING:tensorflow:`input_shape` is undefined or non-square, or `rows` is not in [96, 128, 160, 192, 224]. Weights for input shape (224, 224) will be loaded as the default.\n"
     ]
    }
   ],
   "source": [
    "\n",
    "\n",
    "\n",
    "def add_channels(array):\n",
    "\n",
    "    arr = np.expand_dims(array, axis = -1)\n",
    "    # pad the missing dims with zeros\n",
    "    pad = ((0,0),)*3 + ((0,2),)\n",
    "    padded = np.pad(arr, pad, 'constant', constant_values = 0)\n",
    "\n",
    "    padded = padded.reshape(padded.shape[0], padded.shape[1]*4, round(padded.shape[2]/4), 3)\n",
    "    \n",
    "\n",
    "    return padded\n",
    "\n",
    "X_train_mobile = add_channels(X_train)\n",
    "X_test_mobile = add_channels(X_test)\n",
    "\n",
    "IMG_SHAPE = (X_train_mobile.shape[1],X_train_mobile.shape[2] ,3)\n",
    "\n",
    "\n",
    "\n",
    "base_model = tf.keras.applications.MobileNetV2(input_shape=(IMG_SHAPE),\n",
    "                                               include_top=False,\n",
    "                                               weights='imagenet')\n"
   ]
  }
 ],
 "metadata": {
  "kernelspec": {
   "display_name": ".venv",
   "language": "python",
   "name": "python3"
  },
  "language_info": {
   "codemirror_mode": {
    "name": "ipython",
    "version": 3
   },
   "file_extension": ".py",
   "mimetype": "text/x-python",
   "name": "python",
   "nbconvert_exporter": "python",
   "pygments_lexer": "ipython3",
   "version": "3.11.6"
  }
 },
 "nbformat": 4,
 "nbformat_minor": 2
}
